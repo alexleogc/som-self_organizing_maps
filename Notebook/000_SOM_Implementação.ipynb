{
 "cells": [
  {
   "cell_type": "code",
   "execution_count": 2,
   "id": "ae569399",
   "metadata": {},
   "outputs": [],
   "source": [
    "import numpy as np\n",
    "import pandas as pd\n",
    "import matplotlib.pyplot as plt\n",
    "\n",
    "from sklearn.datasets import load_digits"
   ]
  },
  {
   "cell_type": "code",
   "execution_count": 3,
   "id": "45c3f937",
   "metadata": {},
   "outputs": [],
   "source": [
    "#Carregando dataset\n",
    "dataset = load_digits()\n",
    "\n",
    "X = dataset.data\n",
    "y = dataset.target"
   ]
  },
  {
   "cell_type": "code",
   "execution_count": 4,
   "id": "6f4c31a1",
   "metadata": {},
   "outputs": [
    {
     "data": {
      "text/plain": [
       "(1797, 64)"
      ]
     },
     "execution_count": 4,
     "metadata": {},
     "output_type": "execute_result"
    }
   ],
   "source": [
    "X.shape"
   ]
  },
  {
   "cell_type": "code",
   "execution_count": 469,
   "id": "cb6506d3",
   "metadata": {},
   "outputs": [],
   "source": [
    "def weights_initialization(X,m,n):\n",
    "    X: np.array\n",
    "    return np.random.normal(size=(m,n,X.shape[1]))\n",
    "\n",
    "def euclidean_distance(x1,x2):\n",
    "    x1: np.array\n",
    "    x2: np.array\n",
    "    try:\n",
    "        return np.sqrt(np.sum(np.square(x1-x2),axis=1))\n",
    "    except:\n",
    "        return np.sqrt(np.sum(np.square(x1-x2)))\n",
    "def winner(X,w,m,n):\n",
    "    #Função que calcula o neurônio vencedor\n",
    "    try:\n",
    "        dist = np.zeros(shape=(m,n))\n",
    "        for i in range(m):\n",
    "            for j in range(n):\n",
    "                dist[i,j] = euclidean_distance(X,w[i,j])\n",
    "        return np.unravel_index(np.argmin(dist, axis=None), dist.shape)\n",
    "    except: \n",
    "        dist = np.zeros(shape=(X.shape[0],m,n))\n",
    "        for i in range(m):\n",
    "            for j in range(n):\n",
    "                dist[:,i,j] = euclidean_distance(X,w[i,j])\n",
    "        return [np.unravel_index(np.argmin(dist[i], axis=None), dist.shape)[1:] for i in range(X.shape[0])]\n",
    "    \n",
    "def alpha_operator(w_winner,w_loser,sigma):\n",
    "    return np.exp(-(euclidean_distance(w_winner,w_loser))/2*(sigma**2))\n",
    "\n",
    "def SOM(X,m,n,epochs,lr,sigma):\n",
    "    X: np.asarray #Dataset\n",
    "    m: int #número de linhas da grade\n",
    "    n: int #numero de colunas da grade\n",
    "    epochs: int #número de épocas\n",
    "    lr: float #taxa de aprendizado\n",
    "    sigma: float #operador de vizinhança\n",
    "    \n",
    "    w = weights_initialization(X,m,n)\n",
    "    \n",
    "    for n_int in range(epochs):\n",
    "        w_winner = winner(X,w,m,n)\n",
    "        for n_x in range(X.shape[0]):\n",
    "            idx_loser = np.ones(shape=(m,n),dtype=bool)\n",
    "            idx_loser[w_winner[0][0],w_winner[0][1]] = False\n",
    "            alpha = alpha_operator(w[w_winner[n_x]],w[idx_loser],0.5)\n",
    "            #Atualizando o neurônio vencedor\n",
    "            w[w_winner[n_x]] = w[w_winner[0]] + lr*(X[n_x].T-w[w_winner[0]])\n",
    "            #Atualizando os outros neurônios\n",
    "            w[idx_loser] = w[idx_loser] + alpha.reshape((-1,1))*lr*(X[n_x]-w[idx_loser])\n",
    "    return w"
   ]
  },
  {
   "cell_type": "code",
   "execution_count": 470,
   "id": "549ebc1b",
   "metadata": {},
   "outputs": [],
   "source": [
    "m=5\n",
    "n=5\n",
    "weights = SOM(X,m,n,epochs=5000,lr=0.5,sigma=0.3)"
   ]
  },
  {
   "cell_type": "code",
   "execution_count": 471,
   "id": "4363fae3",
   "metadata": {},
   "outputs": [],
   "source": [
    "w_neuron = winner(X,weights,m,n)"
   ]
  },
  {
   "cell_type": "code",
   "execution_count": 472,
   "id": "73e4eae6",
   "metadata": {},
   "outputs": [
    {
     "data": {
      "text/plain": [
       "(0, 2)"
      ]
     },
     "execution_count": 472,
     "metadata": {},
     "output_type": "execute_result"
    }
   ],
   "source": [
    "winner(x,weights,m,n)"
   ]
  },
  {
   "cell_type": "code",
   "execution_count": 481,
   "id": "37873015",
   "metadata": {},
   "outputs": [
    {
     "data": {
      "image/png": "[encoded data removed]",
      "text/plain": [
       "<Figure size 720x720 with 1 Axes>"
      ]
     },
     "metadata": {
      "needs_background": "light"
     },
     "output_type": "display_data"
    }
   ],
   "source": [
    "plt.figure(figsize=(10,10))\n",
    "plt.imshow(np.arange(0,25).reshape(5,5))\n",
    "\n",
    "for i in range(8,10):\n",
    "    for x,y_t in zip(X[y==i],y[y==i]):\n",
    "        plt.text(winner(x,weights,m,n)[0],winner(x,weights,m,n)[1],s=str(y_t))"
   ]
  }
 ],
 "metadata": {
  "kernelspec": {
   "display_name": "Python 3",
   "language": "python",
   "name": "python3"
  },
  "language_info": {
   "codemirror_mode": {
    "name": "ipython",
    "version": 3
   },
   "file_extension": ".py",
   "mimetype": "text/x-python",
   "name": "python",
   "nbconvert_exporter": "python",
   "pygments_lexer": "ipython3",
   "version": "3.8.8"
  }
 },
 "nbformat": 4,
 "nbformat_minor": 5
}
